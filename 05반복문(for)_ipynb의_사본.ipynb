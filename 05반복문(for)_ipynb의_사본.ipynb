{
  "nbformat": 4,
  "nbformat_minor": 0,
  "metadata": {
    "colab": {
      "provenance": [],
      "authorship_tag": "ABX9TyObRx2XwS0mJXEqEBdZ0UFy",
      "include_colab_link": true
    },
    "kernelspec": {
      "name": "python3",
      "display_name": "Python 3"
    },
    "language_info": {
      "name": "python"
    }
  },
  "cells": [
    {
      "cell_type": "markdown",
      "metadata": {
        "id": "view-in-github",
        "colab_type": "text"
      },
      "source": [
        "<a href=\"https://colab.research.google.com/github/chunheekim/study/blob/main/05%EB%B0%98%EB%B3%B5%EB%AC%B8(for)_ipynb%EC%9D%98_%EC%82%AC%EB%B3%B8.ipynb\" target=\"_parent\"><img src=\"https://colab.research.google.com/assets/colab-badge.svg\" alt=\"Open In Colab\"/></a>"
      ]
    },
    {
      "cell_type": "markdown",
      "source": [
        "**for 문**\n",
        "\n",
        "# **for 문의 기본 구조**\n",
        "```\n",
        "1 for 변수 in 리스트(또는 튜플 , 문자열):\n",
        "2     수행할 문장1\n",
        "3     수행할 문장2\n",
        "4     ...\n",
        "```\n"
      ],
      "metadata": {
        "id": "3__mrB6afMYu"
      }
    },
    {
      "cell_type": "markdown",
      "source": [
        "# **for문 이해하기**\n",
        "\n",
        "* 전형적인 for 문\n",
        "\n",
        "\n",
        ">```\n",
        "1  test_list = ['one', 'two', 'three']\n",
        "2  for i in test_list:\n",
        "3      print(i)\n",
        "```\n"
      ],
      "metadata": {
        "id": "KhQSHHIDfjPe"
      }
    },
    {
      "cell_type": "code",
      "source": [
        "test_list = ['one', 'two', 'three']\n",
        "for i in test_list:\n",
        "    print(i)"
      ],
      "metadata": {
        "colab": {
          "base_uri": "https://localhost:8080/"
        },
        "id": "IP9xwGOlY7JZ",
        "outputId": "cd8dcbce-284f-498c-9a14-82d6f98d0a28"
      },
      "execution_count": null,
      "outputs": [
        {
          "output_type": "stream",
          "name": "stdout",
          "text": [
            "one\n",
            "two\n",
            "three\n"
          ]
        }
      ]
    },
    {
      "cell_type": "markdown",
      "source": [
        "\n",
        "* 다양한 for 문의 사용\n",
        "```\n",
        "1  a = [(1,2), (3,4), (5,6)]\n",
        "2  for (first, last) in a:\n",
        "3      print(first + last)\n",
        "```\n",
        "위 예는 a 리스트의 요솟값이 튜플이기 때문에 각각의 요소가 자동으로 (first, last) 변수에 대입된다."
      ],
      "metadata": {
        "id": "nx6GzwbmYzXN"
      }
    },
    {
      "cell_type": "code",
      "source": [
        "a = [(1,2), (3,4), (5,6)]\n",
        "for (first, last) in a:\n",
        "    print(first + last) "
      ],
      "metadata": {
        "id": "ukPDgsLRZFPH",
        "colab": {
          "base_uri": "https://localhost:8080/"
        },
        "outputId": "9100e32a-e8ab-4436-ecd3-925215126d03"
      },
      "execution_count": 1,
      "outputs": [
        {
          "output_type": "stream",
          "name": "stdout",
          "text": [
            "3\n",
            "7\n",
            "11\n"
          ]
        }
      ]
    },
    {
      "cell_type": "markdown",
      "source": [
        "* for 문의 응용\n",
        "\n",
        "\n",
        "> 점수를 차례로 검사해서 합격했는지 불합격했는지 통보해 주는 프로그램을 만들어 보자.\n",
        "```\n",
        "총 5명의 학생이 시험을 보았는데 시험 점수가 60점 이상이면 합격이고 그렇지 않으면 불합격이다. \n",
        "합격인지 불합격인지 결과를 보여주시오.\n",
        "```\n",
        "\n",
        "```\n",
        "marks = [90, 25, 67, 45, 80]\n",
        "number = 0\n",
        "for mark in marks:\n",
        "    number = number +1\n",
        "    if mark >= 60:\n",
        "        print(\"%d번 학생은 합격입니다.\" % number)\n",
        "    else:\n",
        "        print(\"%d번 학생은 불합격입니다.\" % number)\n",
        "```\n",
        "\n"
      ],
      "metadata": {
        "id": "TdnUTbamYuN5"
      }
    },
    {
      "cell_type": "code",
      "source": [
        "marks = [90, 25, 67, 45, 80]\n",
        "number = 0\n",
        "for mark in marks:\n",
        "    number = number +1\n",
        "    if mark >= 60:\n",
        "        print(\"%d번 학생은 합격입니다.\" % number)\n",
        "    else:\n",
        "        print(\"%d번 학생은 불합격입니다.\" % number)"
      ],
      "metadata": {
        "id": "kfQjPmGWhXxl"
      },
      "execution_count": null,
      "outputs": []
    },
    {
      "cell_type": "markdown",
      "source": [
        "# **for 문과 함께 자주 사용하는 range 함수**\n",
        "\n",
        "* for 문은 숫자 리스트를 자동으로 만들어 주는 range 함수와 함께 사용하는 경우가 많다.\n",
        "\n",
        "* range(10) 은 0 부터 10 미만의 숫자를 포함하는 range 객체를 만들어 준다.\n",
        "\n",
        "* 시작 숫자와 끝 숫자를 지정하려면 range(시작 숫자, 끝 숫자) 형태를 사용하는데, 이때 끝 숫자는 포함되\n",
        "지 않는다.\n",
        "\n",
        "```\n",
        "1  a = range(10)\n",
        "2  print(a)\n",
        "```\n",
        "\n",
        "\n",
        "\n"
      ],
      "metadata": {
        "id": "yBisE9fNiL4j"
      }
    },
    {
      "cell_type": "code",
      "source": [
        "a = range(10)\n",
        "print(a)"
      ],
      "metadata": {
        "id": "Y1meAEqPJWes"
      },
      "execution_count": null,
      "outputs": []
    },
    {
      "cell_type": "markdown",
      "source": [
        "**range 함수의 예시 살펴보기**\n",
        "\n",
        "* for 와 range 함수를 사용하여 1 부터 10 까지 합 구하기 \n",
        "```\n",
        "1  add = 0\n",
        "2  for i in range(1, 11):\n",
        "3     add = add + i\n",
        "4  print(add)\n",
        "```"
      ],
      "metadata": {
        "id": "H4eM9DokLK_l"
      }
    },
    {
      "cell_type": "code",
      "source": [
        "add = 0\n",
        "for i in range(1, 11):\n",
        "    add = add + i\n",
        "print(add)   "
      ],
      "metadata": {
        "id": "Je_xKSaSfgSR",
        "colab": {
          "base_uri": "https://localhost:8080/"
        },
        "outputId": "b15686f7-4a02-4995-81c2-197e7a14ce55"
      },
      "execution_count": 2,
      "outputs": [
        {
          "output_type": "stream",
          "name": "stdout",
          "text": [
            "55\n"
          ]
        }
      ]
    },
    {
      "cell_type": "markdown",
      "source": [
        "* “60 점 이상이면 합격”이라는 문장을 출력\n",
        "```\n",
        "1 # marks3.py\n",
        "2 marks = [90, 25, 67, 45, 80]\n",
        "3 for number in range(len(marks)):\n",
        "4   if marks[number] < 60:\n",
        "5       continue\n",
        "6   print(\"%d번 학생 축하합니다. 합격입니다.\" % (number+1))\n",
        "```\n",
        "* len() 함수는 리스트 안의 요소 개수를 돌려주는 함수, 따라서 len(marks)는 5\n",
        "* range(len(marks))는 range(5), number 변수에는 차례로 0 부터 4 까지의 숫자 대입\n",
        "* marks[number]는 차례대로 90, 25, 67, 45, 80 값"
      ],
      "metadata": {
        "id": "rJNlFxxafX7_"
      }
    },
    {
      "cell_type": "code",
      "source": [
        "marks = [90, 25, 67, 45, 80]\n",
        "for number in range(len(marks)):\n",
        "    if marks[number] < 60:\n",
        "        continue\n",
        "print(\"%d번 학생 축하합니다. 합격입니다.\" % (number+1))              "
      ],
      "metadata": {
        "id": "aLeGTaVLNKFU"
      },
      "execution_count": null,
      "outputs": []
    },
    {
      "cell_type": "markdown",
      "source": [
        "**for 와 range 를 이용한 구구단**\n",
        "```\n",
        "1  for i in range(2,10): # 1번 for문\n",
        "2     for j in range(1, 10): # 2번 for문\n",
        "3         print('%d*%d=%d ' % (i, j, i*j))\n",
        "4     print('')\n",
        "```\n",
        "* print(' ')는 2 단, 3 단 등을 구분하기 위해 사용\n"
      ],
      "metadata": {
        "id": "FIwIb73TNKlb"
      }
    },
    {
      "cell_type": "code",
      "source": [
        "for i in range(2,10): # 1번 for문\n",
        "    for j in range(1, 10): # 2번 for문\n",
        "        print('%d*%d=%d ' % (i, j, i*j))\n",
        "    print('')"
      ],
      "metadata": {
        "id": "mEZWg5RDO_3b"
      },
      "execution_count": null,
      "outputs": []
    },
    {
      "cell_type": "markdown",
      "source": [
        "```\n",
        "for i in range(10):\n",
        "  print(i)\n",
        "\n",
        "for i in range(10):\n",
        "  print(i, end=' ')\n",
        "  ```\n",
        "\n",
        "* print() 함수에서 end=' ' 를 사용해서 숫자를 한 줄에 출력하도록 할 수 있다.\n"
      ],
      "metadata": {
        "id": "q7drVKR4fxBY"
      }
    },
    {
      "cell_type": "code",
      "source": [
        "for i in range(10):\n",
        "    print(i)\n",
        "for i in range(10):\n",
        "    print(i, end=' ')"
      ],
      "metadata": {
        "colab": {
          "base_uri": "https://localhost:8080/"
        },
        "id": "BM0Kmx-Wk1pe",
        "outputId": "2b5ff122-2eb7-4db0-e977-d33a8c7ce1bb"
      },
      "execution_count": null,
      "outputs": [
        {
          "output_type": "stream",
          "name": "stdout",
          "text": [
            "0\n",
            "1\n",
            "2\n",
            "3\n",
            "4\n",
            "5\n",
            "6\n",
            "7\n",
            "8\n",
            "9\n",
            "0 1 2 3 4 5 6 7 8 9 "
          ]
        }
      ]
    },
    {
      "cell_type": "markdown",
      "source": [
        "```\n",
        "for i in range(1, 11, 2):\n",
        "  print(i, end=' ')\n",
        "  ```\n",
        "\n",
        "* range(시작값,종료값, 간격) \n",
        "* 세번째 숫자는 간격(step)이다.\n",
        "\n",
        "```\n",
        "for i in range(11, 1, -2):\n",
        "  print(i, end=' ')\n",
        "  ```\n",
        "  "
      ],
      "metadata": {
        "id": "HeVHD3xSkrF2"
      }
    },
    {
      "cell_type": "code",
      "source": [
        "for i in range(1, 11, 2):\n",
        "    print(i, end=' ')"
      ],
      "metadata": {
        "id": "fCOqm9vrhe7m",
        "colab": {
          "base_uri": "https://localhost:8080/"
        },
        "outputId": "b91be542-2dd3-49aa-deff-56e776c14836"
      },
      "execution_count": null,
      "outputs": [
        {
          "output_type": "stream",
          "name": "stdout",
          "text": [
            "1 3 5 7 9 "
          ]
        }
      ]
    },
    {
      "cell_type": "code",
      "source": [
        "for i in range(11, 1, -2):\n",
        "    print(i, end=' ')"
      ],
      "metadata": {
        "colab": {
          "base_uri": "https://localhost:8080/"
        },
        "id": "SKEcCDB3hsSG",
        "outputId": "29dba399-1662-4a37-ae9f-7d3b7bc4d70f"
      },
      "execution_count": null,
      "outputs": [
        {
          "output_type": "stream",
          "name": "stdout",
          "text": [
            "11 9 7 5 3 "
          ]
        }
      ]
    },
    {
      "cell_type": "markdown",
      "source": [
        "range() + len()\n",
        "\n",
        "```\n",
        "fruits = ['apple', 'banana', 'orange']\n",
        "\n",
        "for i in range(len(fruits)):\n",
        "  print(i, fruits[i])\n",
        "  ```\n",
        "  "
      ],
      "metadata": {
        "id": "2N-qWC1Uhdou"
      }
    },
    {
      "cell_type": "code",
      "source": [
        "fruits = ['apple', 'banana', 'orange']\n",
        "for i in range(len(fruits)):\n",
        "    print(i, fruits[i])"
      ],
      "metadata": {
        "id": "ZrBwBhQhhqMw",
        "colab": {
          "base_uri": "https://localhost:8080/"
        },
        "outputId": "7fb8ea59-03fc-4104-cbe9-94fc70775015"
      },
      "execution_count": null,
      "outputs": [
        {
          "output_type": "stream",
          "name": "stdout",
          "text": [
            "0 apple\n",
            "1 banana\n",
            "2 orange\n"
          ]
        }
      ]
    }
  ]
}
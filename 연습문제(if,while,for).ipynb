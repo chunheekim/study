{
  "nbformat": 4,
  "nbformat_minor": 0,
  "metadata": {
    "colab": {
      "provenance": [],
      "include_colab_link": true
    },
    "kernelspec": {
      "name": "python3",
      "display_name": "Python 3"
    },
    "language_info": {
      "name": "python"
    },
    "gpuClass": "standard"
  },
  "cells": [
    {
      "cell_type": "markdown",
      "metadata": {
        "id": "view-in-github",
        "colab_type": "text"
      },
      "source": [
        "<a href=\"https://colab.research.google.com/github/chunheekim/study/blob/main/%EC%97%B0%EC%8A%B5%EB%AC%B8%EC%A0%9C(if%2Cwhile%2Cfor).ipynb\" target=\"_parent\"><img src=\"https://colab.research.google.com/assets/colab-badge.svg\" alt=\"Open In Colab\"/></a>"
      ]
    },
    {
      "cell_type": "markdown",
      "source": [
        "**연습문제**\n",
        "# **연습문제1)  3 의 배수의 합**\n",
        " \n",
        " * while 문을 사용해 1 부터 1000 까지의 자연수 중 3 의 배수의 합을 구해 보자."
      ],
      "metadata": {
        "id": "ATRMaOYTWDYw"
      }
    },
    {
      "cell_type": "code",
      "source": [
        "# 학번이름_배수합.py\n"
      ],
      "metadata": {
        "id": "xPpF6nJeZeaB"
      },
      "execution_count": null,
      "outputs": []
    },
    {
      "cell_type": "markdown",
      "source": [
        "# **연습문제2) 별 표시하기**\n",
        "\n",
        "* while 문을 사용하여 다음과 같이 별 (\\*) 을 표시하는 프로그램을 작성해 보자.\n",
        "```\n",
        "1 *\n",
        "2 **\n",
        "3 ***\n",
        "4 ****\n",
        "5 *****\n",
        "```\n"
      ],
      "metadata": {
        "id": "dJH-hetyWFXv"
      }
    },
    {
      "cell_type": "code",
      "source": [
        "# 학번이름_별표시.py\n",
        "i=0\n",
        "while i<5:\n",
        "  i=i+1\n",
        "  print(\"*\"*i)\n",
        "  "
      ],
      "metadata": {
        "id": "BWaiHXF2bAqY"
      },
      "execution_count": null,
      "outputs": []
    },
    {
      "cell_type": "markdown",
      "source": [
        "# **연습문제3) 1 부터 100 까지 출력**\n",
        "\n",
        "* for 문을 사용해 1 부터 100 까지의 숫자를 출력해 보자.\n"
      ],
      "metadata": {
        "id": "BnwkI-_0WeV_"
      }
    },
    {
      "cell_type": "code",
      "source": [
        "#학번이름_100까지출력.py\n"
      ],
      "metadata": {
        "id": "8TZJT1Vuc1mP"
      },
      "execution_count": null,
      "outputs": []
    },
    {
      "cell_type": "markdown",
      "source": [
        "# **연습문제4) 평균점수 구하기**\n",
        "\n",
        "* A 학급에 총 10 명의 학생이 있다. 이 학생들의 중간고사 점수는 다음과 같다.\n",
        "*\n",
        "```\n",
        "[70, 60, 55, 75, 95, 90, 80, 80, 85, 100]\n",
        "```\n",
        "* for 문을 사용하여 A 학급의 평균 점수를 구해 보자.\n"
      ],
      "metadata": {
        "id": "kdNi4x1FWh0H"
      }
    },
    {
      "cell_type": "code",
      "source": [
        "#학번이름_평균점수.py\n"
      ],
      "metadata": {
        "id": "d-ac-mBdc2Ke"
      },
      "execution_count": null,
      "outputs": []
    },
    {
      "cell_type": "markdown",
      "source": [
        "# **연습문제5) 리스트 컴프리헨션**\n",
        "\n",
        "* 리스트 중에서 홀수에만 2 를 곱하여 저장하는 다음 코드가 있다.\n",
        "```\n",
        "1 numbers = [1, 2, 3, 4, 5]\n",
        "2 result = []\n",
        "3 for n in numbers:\n",
        "4     if n % 2 == 1:\n",
        "5     result.append(n*2)\n",
        "```\n",
        "* 위 코드를 리스트 컴프리헨션(list comprehension)을 사용하여 표현해 보자.\n"
      ],
      "metadata": {
        "id": "6aK0I3byWkSA"
      }
    },
    {
      "cell_type": "code",
      "execution_count": null,
      "metadata": {
        "id": "QRSBHUYVWAo2"
      },
      "outputs": [],
      "source": [
        "#학번이름_리스트.py\n"
      ]
    }
  ]
}
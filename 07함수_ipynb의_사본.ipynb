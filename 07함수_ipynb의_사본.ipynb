{
  "nbformat": 4,
  "nbformat_minor": 0,
  "metadata": {
    "colab": {
      "provenance": [],
      "authorship_tag": "ABX9TyPnojDv/I6fQ7YOXjnFHbFU",
      "include_colab_link": true
    },
    "kernelspec": {
      "name": "python3",
      "display_name": "Python 3"
    },
    "language_info": {
      "name": "python"
    }
  },
  "cells": [
    {
      "cell_type": "markdown",
      "metadata": {
        "id": "view-in-github",
        "colab_type": "text"
      },
      "source": [
        "<a href=\"https://colab.research.google.com/github/chunheekim/study/blob/main/07%ED%95%A8%EC%88%98_ipynb%EC%9D%98_%EC%82%AC%EB%B3%B8.ipynb\" target=\"_parent\"><img src=\"https://colab.research.google.com/assets/colab-badge.svg\" alt=\"Open In Colab\"/></a>"
      ]
    },
    {
      "cell_type": "markdown",
      "source": [
        "# **함수**\n",
        "\n",
        "* 반복되는 부분이 있을 경우, 프로그램을 기능 단위의 함수로 분리해 놓으면 프로그램 흐름을 일목요연하게 볼 수 있다.\n",
        "\n",
        "* 프로그램 흐름도 잘 파악할 수 있고 오류를 찾기도 쉽다."
      ],
      "metadata": {
        "id": "MUcjP9EThj8N"
      }
    },
    {
      "cell_type": "markdown",
      "source": [
        "**함수의 구조**\n",
        "\n",
        "```\n",
        "1  def 함수명 ( 매개변수 ):\n",
        "2  < 수행할 문장 1>\n",
        "3  < 수행할 문장 2>\n",
        "4  ...\n",
        "```\n",
        "\n",
        "* def 는 함수를 만들 때 사용하는 예약어이며, 함수명은 임의로 만들 수 있다. \n",
        "* 매개변수는 이 함수에 입력으로 전달되는 값을 받는 변수이다. \n",
        "\n",
        "예) 함수의 이름은 add 이고, 입력으로 2 개의 값을 받으며, 리턴값 (출력값) 은 2 개의 입력값을 더한 값이다.\n",
        "```\n",
        "1 def add(a, b):\n",
        "2     return a + b\n",
        "```"
      ],
      "metadata": {
        "id": "nC2Uysw6i1OT"
      }
    },
    {
      "cell_type": "code",
      "source": [
        "def add(a, b):\n",
        "    return a+b"
      ],
      "metadata": {
        "id": "4X2uMpa0jusy"
      },
      "execution_count": null,
      "outputs": []
    },
    {
      "cell_type": "code",
      "source": [
        "a = 3\n",
        "b = 4\n",
        "c = add(a, b)\n",
        "print(c)"
      ],
      "metadata": {
        "id": "vGPrWBTjjqbM",
        "colab": {
          "base_uri": "https://localhost:8080/"
        },
        "outputId": "6ff8f0ee-a53a-41e6-96a5-41d4c95608c1"
      },
      "execution_count": null,
      "outputs": [
        {
          "output_type": "stream",
          "name": "stdout",
          "text": [
            "7\n"
          ]
        }
      ]
    },
    {
      "cell_type": "markdown",
      "source": [
        "**매개변수와 인수**\n",
        "\n",
        "* 매개변수 - 함수에 전달된 값을 저장하는 변수\n",
        "* 인수 - 함수에 전달하는 값\n",
        "\n",
        "```\n",
        "1  def add(a, b):  # a, b 는 매개변수\n",
        "2      return a+b\n",
        "3  print(add(3, 4))  # 3, 4 는 인수\n",
        "```\n"
      ],
      "metadata": {
        "id": "qL1pog1Wj9Lk"
      }
    },
    {
      "cell_type": "markdown",
      "source": [
        "**일반적인 함수**\n",
        "\n",
        "* 사용법 : 리턴값을 받을 변수 = 함수이름 (입력인수 1, 입력인수 2, …)\n",
        "\n",
        "* 입력값이 있고 리턴값이 있는 함수가 일반적인 함수이다.\n",
        "\n",
        "```\n",
        "1  def 함수이름 ( 매개변수 ):\n",
        "2      < 수행할 문장 >\n",
        "3      ...\n",
        "4      return 리턴값\n",
        "```"
      ],
      "metadata": {
        "id": "d1wljtabm5mn"
      }
    },
    {
      "cell_type": "code",
      "source": [
        "def add(a, b):     # 함수 정의\n",
        "    result = a + b\n",
        "    return result\n",
        "\n",
        "a = add(3, 4)    # 함수 호출\n",
        "print(a)"
      ],
      "metadata": {
        "id": "4BzvyAmCm86_",
        "colab": {
          "base_uri": "https://localhost:8080/"
        },
        "outputId": "f9b54a39-b42d-435f-fe2d-6400e9b4614d"
      },
      "execution_count": null,
      "outputs": [
        {
          "output_type": "stream",
          "name": "stdout",
          "text": [
            "7\n"
          ]
        }
      ]
    },
    {
      "cell_type": "markdown",
      "source": [
        "**입력값이 없는 함수**\n",
        "\n",
        "* 사용법 : 리턴값을 받을 변수 = 함수이름 ()\n",
        "\n",
        "```\n",
        "1  def say():\n",
        "2      return 'Hi'\n",
        "3  a = say()\n",
        "4  print(a)\n",
        "```"
      ],
      "metadata": {
        "id": "u3KTgPjgna-8"
      }
    },
    {
      "cell_type": "code",
      "source": [
        "def say():    # 함수 정의\n",
        "    return 'Hi'\n",
        "\n",
        "a = say()    # 함수 호출\n",
        "print(a)        "
      ],
      "metadata": {
        "colab": {
          "base_uri": "https://localhost:8080/"
        },
        "id": "gR-iLu480s-J",
        "outputId": "f7f37d5e-4467-474c-83df-d0cd59a6623f"
      },
      "execution_count": null,
      "outputs": [
        {
          "output_type": "stream",
          "name": "stdout",
          "text": [
            "Hi\n"
          ]
        }
      ]
    },
    {
      "cell_type": "markdown",
      "source": [
        "**리턴값이 없는 함수**\n",
        "* 사용법 : 함수이름 (입력인수 1, 입력인수 2, …)\n",
        "```\n",
        "1  def add(a, b):\n",
        "2      print(\"%d, %d 의 합은 %d 입니다 .\" % (a, b, a+b))\n",
        "3  add(3, 4)\n",
        "```"
      ],
      "metadata": {
        "id": "MOEYQUFLoIed"
      }
    },
    {
      "cell_type": "code",
      "source": [
        "def add(a, b):   # 함수 정의\n",
        "    print(\"%d, %d 의 합은 %d 입니다 .\" % (a, b, a+b))\n",
        "\n",
        "a = add(3, 4)   # 함수 호출\n",
        "add(3, 4)     # 함수 호출\n",
        "print(a)"
      ],
      "metadata": {
        "colab": {
          "base_uri": "https://localhost:8080/"
        },
        "id": "5oNb2HKAoicO",
        "outputId": "9be45edd-9698-4c6e-b5c3-bc9da7ca28b9"
      },
      "execution_count": null,
      "outputs": [
        {
          "output_type": "stream",
          "name": "stdout",
          "text": [
            "3, 4 의 합은 7 입니다 .\n",
            "3, 4 의 합은 7 입니다 .\n",
            "None\n"
          ]
        }
      ]
    },
    {
      "cell_type": "markdown",
      "source": [
        "**입력값도 리턴값도 없는 함수**\n",
        "```\n",
        "1  def say():\n",
        "2     print('Hi')\n",
        "```\n",
        "* 입력 인수를 받는 매개변수도 없고 return 문도 없으니 입력값도 리턴값도 없는 함수이다.\n",
        "* 입력값도 리턴값도 없는 함수는 다음과 같이 사용한다.\n",
        "함수이름 ()\n",
        "```\n",
        "1  say()\n",
        "```"
      ],
      "metadata": {
        "id": "ajjhkXG5oyNT"
      }
    },
    {
      "cell_type": "code",
      "source": [
        "def say():   # 함수 정의\n",
        "     print('Hi')\n",
        "\n",
        "say()    # 함수 호출\n",
        "a=say()    # 함수 호출\n",
        "print(a)"
      ],
      "metadata": {
        "id": "It_odjua6hnX",
        "colab": {
          "base_uri": "https://localhost:8080/"
        },
        "outputId": "26d59864-c8f1-4808-f455-6925c3e8ee1a"
      },
      "execution_count": null,
      "outputs": [
        {
          "output_type": "stream",
          "name": "stdout",
          "text": [
            "Hi\n",
            "Hi\n",
            "None\n"
          ]
        }
      ]
    },
    {
      "cell_type": "markdown",
      "source": [
        "# **Q1. 홀수 짝수 판별하기**\n",
        "\n",
        "* 주어진 자연수가 홀수인지 짝수인지 판별해 주는 함수 (is_odd) 를 작성해 보자.\n",
        "\n",
        "* 홀수이면 True, 짝수이면 False 출력"
      ],
      "metadata": {
        "id": "ROPRDvKbpGj6"
      }
    },
    {
      "cell_type": "code",
      "source": [
        "def is_odd(number):\n",
        "    if number % 2 == 1:   # 2 로 나누었을 때 나머지가 1 이면 홀수이다 .\n",
        "        return True\n",
        "    else:\n",
        "        return False\n",
        "\n",
        "is_odd(int(input()))"
      ],
      "metadata": {
        "id": "RPJ2pyk3qT4a",
        "colab": {
          "base_uri": "https://localhost:8080/"
        },
        "outputId": "535ed390-7d56-4c46-93de-dac316e4d248"
      },
      "execution_count": null,
      "outputs": [
        {
          "name": "stdout",
          "output_type": "stream",
          "text": [
            "5\n"
          ]
        },
        {
          "output_type": "execute_result",
          "data": {
            "text/plain": [
              "True"
            ]
          },
          "metadata": {},
          "execution_count": 2
        }
      ]
    },
    {
      "cell_type": "markdown",
      "source": [
        "# **Q2. 섭씨를 화씨로 변환**\n",
        "\n",
        "* 주어진 섭씨 온도를 화씨 온도로 변환하는 함수를 작성해 보자."
      ],
      "metadata": {
        "id": "RqKdxXZbrYqL"
      }
    },
    {
      "cell_type": "code",
      "source": [
        "def c_to_f(c):\n",
        "    f = (c * 9/5) + 32\n",
        "    return f\n",
        "\n",
        "result = c_to_f(float(input()))\n",
        "print(\"%.2f F \" % result)  # 입력 25일때 출력: 77.0\n"
      ],
      "metadata": {
        "colab": {
          "base_uri": "https://localhost:8080/"
        },
        "id": "hCgdN3QLrccJ",
        "outputId": "8c820720-987c-4fe1-c52f-bbc0c5ab2f3d"
      },
      "execution_count": null,
      "outputs": [
        {
          "output_type": "stream",
          "name": "stdout",
          "text": [
            "25\n",
            "77.00 F \n"
          ]
        }
      ]
    },
    {
      "cell_type": "markdown",
      "source": [
        "# **Q3. 덧셈, 뺄셈, 곱셈, 나눗셈을 하는 계산기 함수**\n",
        "\n",
        "* 연산자와 2개의 정수값을 입력받아 결과를 출력\n",
        "* 결과 예시\n",
        "```\n",
        "연산자를 입력하세요(+, -, *, /) : *\n",
        "첫 번째 수를 입력하세요 : 2\n",
        "두 번째 수를 입력하세요 : 6\n",
        "## 연산결과 : 2 * 6 = 12\n",
        "```\n",
        "* 덧셈 함수 예제\n",
        "```\n",
        "def plus( v1, v2) : # Plus 함수 선언\n",
        "     result = 0\n",
        "     result = v1 + v2\n",
        "     return result\n",
        "hap = 0\n",
        "# 메인 코드 부분 #\n",
        "hap = plus(100, 200)\n",
        "print(\"100과 200의 plus() 함수 결과는 %d\" % hap)\n",
        "```"
      ],
      "metadata": {
        "id": "Rih-XTp8FqXv"
      }
    },
    {
      "cell_type": "code",
      "source": [
        "## 함수 선언 부분 ##\n",
        "def calc(v1, v2, op) :\n",
        "     result = 0\n",
        "     if op == '+' :\n",
        "          result = v1 + v2\n",
        "     elif op == '-' :\n",
        "          result = v1 - v2\n",
        "     elif op == '*' :\n",
        "          result = v1 * v2\n",
        "     elif op == '/' :\n",
        "          result = v1 / v2\n",
        "\t\n",
        "     return result\n",
        "\n",
        "res = 0\n",
        "var1, var2, oper = 0, 0, \"\"\n",
        "\n",
        "## 메인 코드 부분 ##\n",
        "oper = input(\"연산자를 입력하세요(+, -, *, /) : \")\n",
        "var1 = int(input(\"첫 번째 수를 입력하세요 : \"))\n",
        "var2 = int(input(\"두 번째 수를 입력하세요 : \"))\n",
        "\n",
        "res = calc(var1, var2, oper)\n",
        "\n",
        "print(\"## 연산결과 : %d %s %d = %d\" % (var1, oper, var2, res))"
      ],
      "metadata": {
        "colab": {
          "base_uri": "https://localhost:8080/"
        },
        "id": "DnjxeALRGPUf",
        "outputId": "66709f26-ab31-45ab-c325-8722f8c53602"
      },
      "execution_count": 9,
      "outputs": [
        {
          "output_type": "stream",
          "name": "stdout",
          "text": [
            "연산자를 입력하세요(+, -, *, /) : *\n",
            "첫 번째 수를 입력하세요 : 2\n",
            "두 번째 수를 입력하세요 : 6\n",
            "## 연산결과 : 2 * 6 = 12\n"
          ]
        }
      ]
    }
  ]
}
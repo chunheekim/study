{
  "nbformat": 4,
  "nbformat_minor": 0,
  "metadata": {
    "colab": {
      "provenance": [],
      "authorship_tag": "ABX9TyOvQ+pJV8fc9Cdtz5bsTahc",
      "include_colab_link": true
    },
    "kernelspec": {
      "name": "python3",
      "display_name": "Python 3"
    },
    "language_info": {
      "name": "python"
    }
  },
  "cells": [
    {
      "cell_type": "markdown",
      "metadata": {
        "id": "view-in-github",
        "colab_type": "text"
      },
      "source": [
        "<a href=\"https://colab.research.google.com/github/chunheekim/study/blob/main/07%ED%95%A8%EC%88%982_ipynb%EC%9D%98_%EC%82%AC%EB%B3%B8.ipynb\" target=\"_parent\"><img src=\"https://colab.research.google.com/assets/colab-badge.svg\" alt=\"Open In Colab\"/></a>"
      ]
    },
    {
      "cell_type": "markdown",
      "source": [
        "# **매개변수 지정하여 호출하기**"
      ],
      "metadata": {
        "id": "NjkxxcZMhJlP"
      }
    },
    {
      "cell_type": "code",
      "source": [
        "#두 개의 숫자를 입력 받아 첫번째 수에서 두번째 수를 뺄셈하여 리턴하는 sub 함수이다.\n",
        "\n",
        "def sub(a, b):\n",
        "    return a - b\n"
      ],
      "metadata": {
        "id": "htJvJTYKrpAK"
      },
      "execution_count": 2,
      "outputs": []
    },
    {
      "cell_type": "code",
      "source": [
        "# 매개변수를 지정하여 사용할 수 있다.\n",
        "\n",
        "result = sub(a=7, b=3) # a에 7, b에 3을 전달\n",
        "print(result)"
      ],
      "metadata": {
        "colab": {
          "base_uri": "https://localhost:8080/"
        },
        "id": "JsnpDADXrcSv",
        "outputId": "2f44e40e-3289-4ed8-c53c-ed3f9a537bd6"
      },
      "execution_count": 4,
      "outputs": [
        {
          "output_type": "stream",
          "name": "stdout",
          "text": [
            "4\n"
          ]
        }
      ]
    },
    {
      "cell_type": "code",
      "source": [
        "# 매개변수를 지정하면 다음과 같이 순서에 상관없이 사용할 수 있다는 장점이 있다.\n",
        "\n",
        "result = sub(b=5, a=3) # b에 5, a에 3을 전달\n",
        "print(result)\n"
      ],
      "metadata": {
        "colab": {
          "base_uri": "https://localhost:8080/"
        },
        "id": "wgIHn8J3rAZv",
        "outputId": "2bb42d51-faff-4a8e-b8a1-a784a682b27b"
      },
      "execution_count": 5,
      "outputs": [
        {
          "output_type": "stream",
          "name": "stdout",
          "text": [
            "-2\n"
          ]
        }
      ]
    },
    {
      "cell_type": "markdown",
      "source": [
        "# **여러 개의 입력값을 받는 함수**"
      ],
      "metadata": {
        "id": "01iC6i0FtWXH"
      }
    },
    {
      "cell_type": "markdown",
      "source": [
        "**입력값이 몇 개가 될지 모를 때는 어떻게 해야 할까?**\n",
        "\n",
        "입력값이 여러 개일 때 그 입력값을 모두 더해 주는 함수를 생각해 보자. \n",
        "\n",
        "하지만 몇 개가 입력될지 모를 때는 어떻게 해야 할까?\n",
        "```\n",
        "1  def 함수이름(*매개변수):\n",
        "2      <수행할 문장 >\n",
        "```\n"
      ],
      "metadata": {
        "id": "wxjZc1qyhwLe"
      }
    },
    {
      "cell_type": "markdown",
      "source": [
        "**여러 개의 입력값을 받는 함수 만들기**\n",
        "\n",
        "여러 개의 입력값을 모두 더하는 함수를 만들어 보자. \n",
        "\n",
        "add_many(1, 2)이면 3 을, \n",
        "\n",
        "add_many(1,2,3)이면 6 을, \n",
        "\n",
        "add_many(1, 2, 3, 4, 5, 6, 7, 8, 9, 10)이면 55 를 리턴하는 함수를 만들어 보자.\n",
        "```\n",
        "## ⓐ\n",
        "\n",
        "1  def add_many(*args):\n",
        "2      result = 0\n",
        "3      for i in args:\n",
        "4          result = result + i\n",
        "5      return result\n",
        "```"
      ],
      "metadata": {
        "id": "qVf3ju5bOZZK"
      }
    },
    {
      "cell_type": "code",
      "source": [
        "def add_many(*args):\n",
        "    result = 0\n",
        "    for i in args:\n",
        "        result = result + i\n",
        "    return result"
      ],
      "metadata": {
        "id": "R9x4S7XDuXAj"
      },
      "execution_count": 6,
      "outputs": []
    },
    {
      "cell_type": "markdown",
      "source": [
        "위에서 만든 add_many 함수는 입력값이 몇 개이든 상관이 없다.\n",
        "\n",
        "*args처럼 매개변수 이름 앞에 *을 붙이면 입력값을 전부 모아서 튜플로 만들어 주기 때문이다. \n",
        "\n",
        "add_many(1, 2, 3)처럼 이 함수를 쓰면 args 는 (1, 2, 3)이 되고, \n",
        "\n",
        "add_many(1, 2, 3, 4, 5, 6, 7, 8, 9, 10)처럼 쓰면 args 는 (1, 2, 3, 4, 5, 6, 7, 8, 9, 10)이 된다. \n",
        "\n",
        "여기에서 *args는 임의로 정한 변수이름이다.\n",
        "\n",
        "args 는 인수를 뜻하는 영어 단어 arguments 의 약자이며 관례적으로 자주 사용한다.\n",
        "\n",
        "작성한 add_many 함수를 다음과 같이 사용해 보자.\n",
        "```\n",
        "## ⓑ\n",
        "\n",
        "1  result = add_many(1,2,3)\n",
        "2  print(result)\n",
        "3 \n",
        "4  result = add_many(1,2,3,4,5,6,7,8,9,10)\n",
        "5  print(result)\n",
        "```"
      ],
      "metadata": {
        "id": "CII_jvmkuXjn"
      }
    },
    {
      "cell_type": "code",
      "source": [
        "result = add_many(1,2,3)\n",
        "print(result)\n",
        " \n",
        "result = add_many(1,2,3,4,5,6,7,8,9,10)\n",
        "print(result)"
      ],
      "metadata": {
        "colab": {
          "base_uri": "https://localhost:8080/"
        },
        "id": "Dq0R7IKzueUs",
        "outputId": "a4caee5f-fcb6-4fce-a5d2-b5465688b6e7"
      },
      "execution_count": 7,
      "outputs": [
        {
          "output_type": "stream",
          "name": "stdout",
          "text": [
            "6\n",
            "55\n"
          ]
        }
      ]
    },
    {
      "cell_type": "markdown",
      "source": [
        "\n",
        "여러 개의 입력을 처리할 때 def add_many(*args)처럼 함수의 매개변수로 *args 하나만 사용할 수 있는 것은 아니다.\n",
        "다음 예를 보자.\n",
        "```\n",
        "## ⓒ\n",
        "\n",
        "1 def add_mul(choice, *args):\n",
        "2    if choice == \"add\":\n",
        "3        result = 0\n",
        "4        for i in args:\n",
        "5            result = result + i\n",
        "6    elif choice == \"mul\":\n",
        "7        result = 1\n",
        "8        for i in args:\n",
        "9            result = result * i\n",
        "10   return result\n",
        "\n",
        "```"
      ],
      "metadata": {
        "id": "FhGlaQtpufsj"
      }
    },
    {
      "cell_type": "code",
      "source": [
        "def add_mul(choice, *args):\n",
        "    if choice == \"add\":\n",
        "        result = 0\n",
        "        for i in args:\n",
        "            result = result + i\n",
        "    elif choice == \"mul\":\n",
        "        result = 1\n",
        "        for i in args:\n",
        "            result = result * i\n",
        "    return result"
      ],
      "metadata": {
        "id": "c73kS286ul_q"
      },
      "execution_count": 8,
      "outputs": []
    },
    {
      "cell_type": "markdown",
      "source": [
        "add_mul 함수는 여러 개의 입력값을 의미하는 *args 매개변수 앞에 choice 매개변수가 추가되어 있다.\n",
        "이 함수는 다음과 같이 사용할 수 있다.\n",
        "```\n",
        "## ⓓ\n",
        "\n",
        "1  result = add_mul('add', 1,2,3,4,5)\n",
        "2  print(result)\n",
        "3 \n",
        "4  result = add_mul('mul', 1,2,3,4,5)\n",
        "5  print(result)\n",
        "6 \n",
        "```\n",
        "매개변수 choice 에 ’add’가 입력된 경우 *args에 입력되는 모든 값을 더해서 15 를 돌려주고, ’mul’ 이입력된 경우 *args에 입력되는 모든 값을 곱해서 120 을 리턴한다."
      ],
      "metadata": {
        "id": "rC1DcaxYumpX"
      }
    },
    {
      "cell_type": "code",
      "source": [
        "result = add_mul('add', 1,2,3,4,5)\n",
        "print(result)\n",
        "\n",
        "result = add_mul('mul', 1,2,3,4,5)\n",
        "print(result)"
      ],
      "metadata": {
        "colab": {
          "base_uri": "https://localhost:8080/"
        },
        "id": "G9exrsxrup90",
        "outputId": "d6718c09-0855-4a81-b6e0-a62615fe14fe"
      },
      "execution_count": 9,
      "outputs": [
        {
          "output_type": "stream",
          "name": "stdout",
          "text": [
            "15\n",
            "120\n"
          ]
        }
      ]
    },
    {
      "cell_type": "code",
      "source": [
        "# ⓐ + ⓑ\n",
        "\n",
        "def add_many(*args):\n",
        "    result = 0\n",
        "    for i in args:\n",
        "        result = result + i\n",
        "    return result\n",
        "\n",
        "result = add_many(1,2,3)\n",
        "print(result)\n",
        " \n",
        "result = add_many(1,2,3,4,5,6,7,8,9,10)\n",
        "print(result)\n"
      ],
      "metadata": {
        "colab": {
          "base_uri": "https://localhost:8080/"
        },
        "id": "AqjfRBH5hWDr",
        "outputId": "9eb6a96d-de3e-403f-ce73-c7d76e334942"
      },
      "execution_count": null,
      "outputs": [
        {
          "output_type": "stream",
          "name": "stdout",
          "text": [
            "6\n",
            "55\n"
          ]
        }
      ]
    },
    {
      "cell_type": "code",
      "source": [
        "# ⓒ + ⓓ\n",
        "\n",
        "def add_mul(choice, *args):\n",
        "    if choice == \"add\":\n",
        "        result = 0\n",
        "        for i in args:\n",
        "            result = result + i\n",
        "    elif choice == \"mul\":\n",
        "        result = 1\n",
        "        for i in args:\n",
        "            result = result * i\n",
        "    return result\n",
        "\n",
        "result = add_mul('add', 1,2,3,4,5)\n",
        "print(result)\n",
        " \n",
        "result = add_mul('mul', 1,2,3,4,5)\n",
        "print(result)"
      ],
      "metadata": {
        "colab": {
          "base_uri": "https://localhost:8080/"
        },
        "id": "lPcx0iI6iBE8",
        "outputId": "000e05bc-5072-43fe-f7ea-ed63b39bd225"
      },
      "execution_count": null,
      "outputs": [
        {
          "output_type": "stream",
          "name": "stdout",
          "text": [
            "15\n",
            "120\n"
          ]
        }
      ]
    },
    {
      "cell_type": "markdown",
      "source": [
        "# **함수의 리턴값은 언제나 하나이다**\n",
        "\n",
        "먼저 다음 함수를 만들어 보자.\n",
        "```\n",
        "## ⓔ\n",
        "\n",
        "1  def add_and_mul(a,b):\n",
        "2      return a+b, a*b\n",
        "```"
      ],
      "metadata": {
        "id": "Y6QlNuUGPx4D"
      }
    },
    {
      "cell_type": "code",
      "source": [
        "def add_and_mul(a,b):\n",
        "    return a+b, a*b"
      ],
      "metadata": {
        "id": "jMKYHEwuwxAF"
      },
      "execution_count": 10,
      "outputs": []
    },
    {
      "cell_type": "markdown",
      "source": [
        "add_and_mul 함수는 2 개의 입력 인수를 받아 더한 값과 곱한 값을 리턴하는 함수이다.\n",
        "이 함수를 다음과 같이 호출하면 어떻게 될까?\n",
        "```\n",
        "## ⓕ\n",
        "\n",
        "1  result = add_and_mul(3,4)\n",
        "2  print(result)\n",
        "```"
      ],
      "metadata": {
        "id": "efGDJYdmwxlr"
      }
    },
    {
      "cell_type": "code",
      "source": [
        "result = add_and_mul(3,4)\n",
        "print(result)"
      ],
      "metadata": {
        "colab": {
          "base_uri": "https://localhost:8080/"
        },
        "id": "LwmKRiK3w4mJ",
        "outputId": "5ebd79e7-24fb-4858-b646-25cfff65c24b"
      },
      "execution_count": 11,
      "outputs": [
        {
          "output_type": "stream",
          "name": "stdout",
          "text": [
            "(7, 12)\n"
          ]
        }
      ]
    },
    {
      "cell_type": "markdown",
      "source": [
        "리턴값은 a+b와 a*b  2 개인데 리턴값을 받아들이는 변수는 result 하나만 쓰였으니 오류가 발생하지 않을까? \n",
        "\n",
        "하지만 오류는 발생하지 않는다. \n",
        "\n",
        "함수의 리턴값은 2 개가 아니라 add_and_mul 함수의 리턴값 a+b와 a*b는 튜플값 하나인 (a+b, a*b)로 리턴된다.\n",
        "\n",
        "따라서 result 변수는 다음과 같은 값을 갖게 된다.\n",
        "```\n",
        "1 result = (7, 12)\n",
        "```\n",
        "즉 결괏값으로 (7, 12) 라는 튜플 값을 갖게 되는 것이다."
      ],
      "metadata": {
        "id": "ooNxFYmWw49Z"
      }
    },
    {
      "cell_type": "markdown",
      "source": [
        "만약 이 하나의 튜플 값을 2 개의 값으로 분리하여 받고 싶다면 다음과 같이 함수를 호출하면 된다.\n",
        "```\n",
        "## ⓖ\n",
        "\n",
        "1  result1, result2 = add_and_mul(3, 4)\n",
        "2  print(result1)\n",
        "3  print(result2)\n",
        "```\n",
        "이렇게 호출하면 result1, result2 = (7, 12)가 되어 result1 은 7 이 되고 result2 는 12 가 된다."
      ],
      "metadata": {
        "id": "QIMHsH-4xAax"
      }
    },
    {
      "cell_type": "code",
      "source": [
        "result1, result2 = add_and_mul(3, 4)\n",
        "print(result1)\n",
        "print(result2)"
      ],
      "metadata": {
        "colab": {
          "base_uri": "https://localhost:8080/"
        },
        "id": "D3iVI5DlxGfH",
        "outputId": "812568f4-5ff9-4a63-af47-bff2b4003be0"
      },
      "execution_count": 12,
      "outputs": [
        {
          "output_type": "stream",
          "name": "stdout",
          "text": [
            "7\n",
            "12\n"
          ]
        }
      ]
    },
    {
      "cell_type": "markdown",
      "source": [
        "다음과 같은 의문이 생길 수도 있다.\n",
        "```\n",
        "1  def add_and_mul(a,b):\n",
        "2      return a+b\n",
        "3      return a*b\n",
        "```"
      ],
      "metadata": {
        "id": "rBP3Kp1mxGyD"
      }
    },
    {
      "cell_type": "code",
      "source": [
        "def add_and_mul(a,b):\n",
        "    return a+b\n",
        "    return a*b"
      ],
      "metadata": {
        "id": "cQToQZGeyOmM"
      },
      "execution_count": 13,
      "outputs": []
    },
    {
      "cell_type": "markdown",
      "source": [
        "위와 같이 return 문을 2 번 사용하면 2 개의 리턴값을 돌려주지 않을까? \n",
        "add_and_mul 함수를 호출해 보면 알 수 있다.\n",
        "```\n",
        "1  result = add_and_mul(2, 3)\n",
        "2  print(result)\n",
        "```"
      ],
      "metadata": {
        "id": "sKS0Wi2ryO-q"
      }
    },
    {
      "cell_type": "code",
      "source": [
        "result = add_and_mul(2, 3)\n",
        "print(result)"
      ],
      "metadata": {
        "colab": {
          "base_uri": "https://localhost:8080/"
        },
        "id": "fTV_1BiuxM2n",
        "outputId": "231f83b0-ad99-499a-c6bb-b44a85d30a69"
      },
      "execution_count": 14,
      "outputs": [
        {
          "output_type": "stream",
          "name": "stdout",
          "text": [
            "5\n"
          ]
        }
      ]
    },
    {
      "cell_type": "markdown",
      "source": [
        "add_and_mul(2, 3)의 리턴값은 5 하나뿐이다. \n",
        "\n",
        "두 번째 return 문인 return a*b는 실행되지 않았다는 뜻이다.\n",
        "\n",
        "즉 함수는 return 문을 만나는 순간 리턴값을 돌려준 다음 함수를 빠져나가게 된다."
      ],
      "metadata": {
        "id": "5En64m1oxNIS"
      }
    },
    {
      "cell_type": "code",
      "source": [
        "# ⓔ + ⓕ + ⓖ\n",
        "\n",
        "def add_and_mul(a,b):\n",
        "    return a+b, a*b\n",
        "\n",
        "result = add_and_mul(3,4)\n",
        "print(result)\n",
        "\n",
        "result1, result2 = add_and_mul(3, 4)\n",
        "print(result1)\n",
        "print(result2)"
      ],
      "metadata": {
        "colab": {
          "base_uri": "https://localhost:8080/"
        },
        "id": "r65-PwfqinNh",
        "outputId": "a2727e1d-0d69-41b9-f08b-adda8b991fd4"
      },
      "execution_count": null,
      "outputs": [
        {
          "output_type": "stream",
          "name": "stdout",
          "text": [
            "(7, 12)\n",
            "7\n",
            "12\n"
          ]
        }
      ]
    },
    {
      "cell_type": "markdown",
      "source": [
        "# **return 의 또 다른 쓰임새**\n",
        "\n",
        "특별한 상황일 때 함수를 빠져나가고 싶다면 return 을 단독으로 써서 함수를 즉시 빠져나갈 수 있다. \n",
        "```\n",
        "## ⓗ\n",
        "\n",
        "1  def say_nick(nick):\n",
        "2      if nick == \" 바보 \":\n",
        "3          return\n",
        "4      print(\" 나의 별명은 %s 입니다 .\" % nick)\n",
        "\n",
        "```\n",
        "위 함수는’ 별명’을 입력으로 전달받아 출력하는 함수이다. \n",
        "문자열을 출력한다는 것과 리턴 값이 있다는 것은 전혀 다른 말이다. \n",
        "함수의 리턴 값은 오로지 return 문에 의해서만 생성된다."
      ],
      "metadata": {
        "id": "8Wr2Z94kQrSv"
      }
    },
    {
      "cell_type": "code",
      "source": [
        "def say_nick(nick):\n",
        "    if nick == \" 바보 \":\n",
        "        return\n",
        "    print(\" 나의 별명은 %s 입니다 .\" % nick)"
      ],
      "metadata": {
        "id": "wcaLOB_5yvHc"
      },
      "execution_count": 15,
      "outputs": []
    },
    {
      "cell_type": "code",
      "source": [
        "## ⓘ\n",
        "\n",
        "say_nick(' 야호 ')\n"
      ],
      "metadata": {
        "colab": {
          "base_uri": "https://localhost:8080/"
        },
        "id": "dg0OAVYMywVF",
        "outputId": "723cb2ad-0306-4c97-c742-3cdb4abec37f"
      },
      "execution_count": 17,
      "outputs": [
        {
          "output_type": "stream",
          "name": "stdout",
          "text": [
            " 나의 별명은  야호  입니다 .\n"
          ]
        }
      ]
    },
    {
      "cell_type": "code",
      "source": [
        "## ⓙ\n",
        "\n",
        "say_nick(' 바보 ')\n"
      ],
      "metadata": {
        "id": "DKesSYQzyw7y"
      },
      "execution_count": 20,
      "outputs": []
    },
    {
      "cell_type": "code",
      "source": [
        "# ⓗ + ⓘ\n",
        "\n",
        "def say_nick(nick):\n",
        "    if nick == \" 바보 \":\n",
        "        return\n",
        "    print(\" 나의 별명은 %s 입니다 .\" % nick)\n",
        "\n",
        "say_nick(' 야호 ')"
      ],
      "metadata": {
        "colab": {
          "base_uri": "https://localhost:8080/"
        },
        "id": "q3KiZbiZjep2",
        "outputId": "7d7b0172-0dca-4a24-ef75-947fd79eab94"
      },
      "execution_count": null,
      "outputs": [
        {
          "output_type": "stream",
          "name": "stdout",
          "text": [
            " 나의 별명은  야호  입니다 .\n"
          ]
        }
      ]
    },
    {
      "cell_type": "code",
      "source": [
        "# ⓗ + ⓙ\n",
        "\n",
        "def say_nick(nick):\n",
        "    if nick == \" 바보 \":\n",
        "        return\n",
        "    print(\" 나의 별명은 %s 입니다 .\" % nick)\n",
        "  \n",
        "say_nick(' 바보 ')"
      ],
      "metadata": {
        "id": "e-1ImSTWjuqI"
      },
      "execution_count": null,
      "outputs": []
    },
    {
      "cell_type": "markdown",
      "source": [
        "# **함수 안에서 선언한 변수의 효력 범위**\n",
        "\n",
        "함수 안에서 사용할 변수의 이름을 함수 밖에서도 동일하게 사용한다면 어떻게 될까? 다음 예를 보자.\n",
        "```\n",
        "## ⓚ\n",
        "\n",
        "1  # vartest.py\n",
        "2  a = 1\n",
        "3  def vartest(a):\n",
        "4      a = a +1\n",
        "5  vartest(a)\n",
        "7  print(a)\n",
        "```\n",
        "먼저 a 라는 변수를 생성하고 1 을 대입했다. \n",
        "\n",
        "그리고 입력으로 들어온 값에 1 을 더해 주고 결괏값은 리턴하지 않는 vartest 함수를 선언했다. \n",
        "\n",
        "그리고 vartest 함수에 입력값으로 a 를 주었다. \n",
        "\n",
        "마지막으로 a 의 값을 print(a)로 출력했다.\n",
        "\n",
        "과연 어떤 값이 출력될까?"
      ],
      "metadata": {
        "id": "02Aym1oZRv0d"
      }
    },
    {
      "cell_type": "code",
      "source": [
        "# ⓚ\n",
        "\n",
        "a = 1\n",
        "def vartest(a):\n",
        "    a = a +1\n",
        "\n",
        "vartest(a)\n",
        "print(a)\n"
      ],
      "metadata": {
        "colab": {
          "base_uri": "https://localhost:8080/"
        },
        "id": "oleOfYqkah4Z",
        "outputId": "f68e1457-ac66-43f4-b647-91480cfca8dd"
      },
      "execution_count": 21,
      "outputs": [
        {
          "output_type": "stream",
          "name": "stdout",
          "text": [
            "1\n"
          ]
        }
      ]
    },
    {
      "cell_type": "markdown",
      "source": [
        "vartest 함수에서 매개변수 a 의 값에 1 을 더했으니까 2 가 출력될 것 같지만 프로그램 소스를 작성해서 실행해 보면 결괏값은 1 이 나온다. \n",
        "\n",
        "그 이유는 함수 안에서 사용하는 매개변수는 함수 안에서만 사용하는 “함수만의 변수” 이기 때문이다. \n",
        "\n",
        "즉 def vartest(a)에서 입력값을 전달받는 매개변수 a 는 함수 안에서만 사용하는 변수이지 함수 밖의 변수 a 와는 전혀 상관이 없다는 뜻이다.\n",
        "\n",
        "다음 예를 보면 더욱 분명하게 이해할 수 있을 것이다.\n",
        "```\n",
        "## ⓜ\n",
        "\n",
        "1  # vartest_error.py\n",
        "2  def vartest(a):\n",
        "3      a = a + 1\n",
        "4\n",
        "5  vartest(3)\n",
        "6  print(a)\n",
        "```\n",
        "위 프로그램 소스를 에디터로 작성해서 실행하면 어떻게 될까?\n",
        "\n",
        "vartest(3)을 수행하면 vartest 함수 안에서 a 는 4 가 되지만 함수를 호출하\n",
        "고 난 뒤에 print(a) 문장은 오류가 발생하게 된다. \n",
        "\n",
        "그 이유는 print(a) 에서 사용한 a 변수를 어디에서도 찾을 수가 없기 때문이다.\n",
        "\n",
        "즉, 함수 안에서 선언한 매개변수는 함수 안에서만 사용될 뿐 함수 밖에서는 사용되지 않는다."
      ],
      "metadata": {
        "id": "6bby3Rip0aEy"
      }
    },
    {
      "cell_type": "code",
      "source": [
        "# ⓜ\n",
        "\n",
        "def vartest(a):\n",
        "  a = a + 1\n",
        "\n",
        "vartest(3)\n",
        "print(a)"
      ],
      "metadata": {
        "id": "FgqxKOJCb9nN"
      },
      "execution_count": null,
      "outputs": []
    },
    {
      "cell_type": "markdown",
      "source": [
        "# **함수 안에서 함수 밖의 변수를 변경하는 방법**\n",
        "\n",
        "vartest 라는 함수를 사용해서 함수 밖의 변수 a 를 1 만큼 증가시킬 수 있는 방법은 없을까? \n",
        "\n",
        "**1. return 사용하기**\n",
        "```\n",
        "## ⓝ\n",
        "\n",
        "1  # vartest_return.py\n",
        "2  a = 1\n",
        "3  def vartest(a):\n",
        "4      a = a +1\n",
        "5  return a\n",
        "6\n",
        "7  a = vartest(a)\n",
        "8  print(a)\n",
        "```\n",
        "첫 번째 방법은 return 을 사용하는 방법이다. \n",
        "\n",
        "vartest 함수는 입력으로 들어온 값에 1 을 더한값을 리턴하도록 변경했다. \n",
        "\n",
        "따라서 a = vartest(a)라고 작성하면 a 에는 vartest 함수의 리턴값이 대입된다.\n",
        "\n",
        "여기에서도 물론 vartest 함수 안의 a 매개변수는 함수 밖의 a 와는 다른 것이다."
      ],
      "metadata": {
        "id": "DexC5_UjR5us"
      }
    },
    {
      "cell_type": "code",
      "source": [
        "# ⓝ\n",
        "a = 1\n",
        "def vartest(a):\n",
        "    a = a +1\n",
        "    return a\n",
        "\n",
        "a = vartest(a)\n",
        "print(a)"
      ],
      "metadata": {
        "colab": {
          "base_uri": "https://localhost:8080/"
        },
        "id": "yzdmpdcNeA8R",
        "outputId": "f073f289-232a-424d-88c2-2e472b384b25"
      },
      "execution_count": null,
      "outputs": [
        {
          "output_type": "stream",
          "name": "stdout",
          "text": [
            "2\n"
          ]
        }
      ]
    },
    {
      "cell_type": "markdown",
      "source": [
        "**2. global 명령어 사용하기**\n",
        "```\n",
        "## ⓞ\n",
        "\n",
        "1  # vartest_global.py\n",
        "2  a = 1\n",
        "3  def vartest():\n",
        "4     global a\n",
        "5     a = a+1\n",
        "6\n",
        "7  vartest()\n",
        "8  print(a)\n",
        "```\n",
        "두 번째 방법은 global 명령어를 사용하는 방법이다. \n",
        "\n",
        "위 예에서 볼 수 있듯이 vartest 함수 안의 global a 문장은 함수 안에서 함수 밖의 a 변수를 직접 사용하겠다는 뜻이다. \n",
        "\n",
        "하지만 프로그래밍을 할 때 global 명령어는 사용하지 않는 것이 좋다. \n",
        "\n",
        "왜냐하면 함수는 독립적으로 존재하는 것이 좋기 때문이다. 외부 변수에 종속적인 함수는 그다지 좋은 함수가 아니다. \n",
        "\n",
        "그러므로 가급적 global 명령어를 사용하는 이 방법은 피하고 첫 번째 방법을 사용하기를 권한다."
      ],
      "metadata": {
        "id": "P_wlJ9XD2EBR"
      }
    },
    {
      "cell_type": "code",
      "source": [
        "# ⓞ\n",
        "\n",
        "a = 1\n",
        "def vartest():\n",
        "    global a\n",
        "    a = a+1\n",
        "\n",
        "vartest()\n",
        "print(a)"
      ],
      "metadata": {
        "colab": {
          "base_uri": "https://localhost:8080/"
        },
        "id": "wvLZrjxvdp2x",
        "outputId": "51bec637-636d-45be-b77e-1a0c22def069"
      },
      "execution_count": null,
      "outputs": [
        {
          "output_type": "stream",
          "name": "stdout",
          "text": [
            "2\n"
          ]
        }
      ]
    },
    {
      "cell_type": "markdown",
      "source": [
        "# **lambda**\n",
        "\n",
        "lambda 는 함수를 생성할 때 사용하는 예약어로 def 와 동일한 역할을 한다. \n",
        "\n",
        "보통 함수를 한줄로 간결하게 만들 때 사용한다. \n",
        "\n",
        "def 를 사용해야 할 정도로 복잡하지 않는 곳에 주로 쓰인다.\n",
        "\n",
        "사용법은 다음과 같다.\n",
        "```\n",
        "함수명 = lambda 매개변수 1, 매개변수 2, … : 매개변수를 이용한 표현식\n",
        "```\n",
        "\n",
        "```\n",
        "## ⓟ\n",
        "\n",
        "1  add = lambda a, b: a+b\n",
        "2  result = add(3, 4)\n",
        "3  print(result)\n",
        "```\n",
        "lambda 로 만든 함수는 return 명령어가 없어도 표현식의 결괏값을 리턴한다."
      ],
      "metadata": {
        "id": "sDuKuOJ5STto"
      }
    },
    {
      "cell_type": "code",
      "source": [
        "# ⓟ\n",
        "\n",
        "add = lambda a, b: a+b\n",
        "result = add(3, 4)\n",
        "print(result)"
      ],
      "metadata": {
        "colab": {
          "base_uri": "https://localhost:8080/"
        },
        "id": "_g8Sj4yJlPyh",
        "outputId": "d1faf59b-9830-4618-d525-c35c3153c2e3"
      },
      "execution_count": null,
      "outputs": [
        {
          "output_type": "stream",
          "name": "stdout",
          "text": [
            "7\n"
          ]
        }
      ]
    },
    {
      "cell_type": "markdown",
      "source": [
        "add 는 두 개의 인수를 받아 서로 더한 값을 리턴하는 lambda 함수이다. \n",
        "\n",
        "위 예제는 def 를 사용한 다음 함수와 하는 일이 동일하다.\n",
        "```\n",
        "1  def add(a, b):\n",
        "2      return a+b\n",
        "3 \n",
        "4  result = add(3, 4)\n",
        "5  print(result)\n",
        "```"
      ],
      "metadata": {
        "id": "nnOkGjnG3GQX"
      }
    },
    {
      "cell_type": "code",
      "source": [
        "def add(a, b):\n",
        "    return a+b\n",
        " \n",
        "result = add(3, 4)\n",
        "print(result)"
      ],
      "metadata": {
        "colab": {
          "base_uri": "https://localhost:8080/"
        },
        "id": "vGhtA5j9lV52",
        "outputId": "47cd6048-653e-4b17-d4bd-37b7aec12a73"
      },
      "execution_count": null,
      "outputs": [
        {
          "output_type": "stream",
          "name": "stdout",
          "text": [
            "7\n"
          ]
        }
      ]
    }
  ]
}
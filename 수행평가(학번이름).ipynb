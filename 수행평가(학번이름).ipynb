{
  "nbformat": 4,
  "nbformat_minor": 0,
  "metadata": {
    "colab": {
      "provenance": [],
      "authorship_tag": "ABX9TyOgRvQDfudVFHMypwK83FVP",
      "include_colab_link": true
    },
    "kernelspec": {
      "name": "python3",
      "display_name": "Python 3"
    },
    "language_info": {
      "name": "python"
    }
  },
  "cells": [
    {
      "cell_type": "markdown",
      "metadata": {
        "id": "view-in-github",
        "colab_type": "text"
      },
      "source": [
        "<a href=\"https://colab.research.google.com/github/chunheekim/study/blob/main/%EC%88%98%ED%96%89%ED%8F%89%EA%B0%80(%ED%95%99%EB%B2%88%EC%9D%B4%EB%A6%84).ipynb\" target=\"_parent\"><img src=\"https://colab.research.google.com/assets/colab-badge.svg\" alt=\"Open In Colab\"/></a>"
      ]
    },
    {
      "cell_type": "markdown",
      "source": [
        "# **문제1:**\n",
        "* 주어진 리스트에서 최대값과 최소값을 찾아 출력하는 코드를 작성하시오."
      ],
      "metadata": {
        "id": "7qnJLKRXZCk5"
      }
    },
    {
      "cell_type": "markdown",
      "source": [
        "**입력 자료:**\n",
        ">```\n",
        "numbers = [3, 8, 2, 9, 1, 5, 10]\n",
        "```\n",
        "\n",
        "**출력 예시:**\n",
        ">```\n",
        "최대값: 10\n",
        "최소값: 1\n",
        "```\n",
        "\n",
        "**가능한 정답 코드 일부:**\n",
        ">```\n",
        "numbers = [3, 8, 2, 9, 1, 5, 10]\n",
        ".\n",
        ".\n",
        ".\n",
        ".\n",
        "print(\"최대값:\", max_value)\n",
        "print(\"최소값:\", min_value)\n",
        "\n",
        "```\n"
      ],
      "metadata": {
        "id": "D4MxO88mUEMD"
      }
    },
    {
      "cell_type": "code",
      "source": [
        "numbers = [3, 8, 2, 9, 1, 5, 10]\n",
        "\n",
        "\n",
        "\n"
      ],
      "metadata": {
        "id": "_cE11BZDZGJP"
      },
      "execution_count": null,
      "outputs": []
    },
    {
      "cell_type": "markdown",
      "source": [
        "# **문제2:**\n",
        "* 사용자로부터 입력받은 성적에 대해 학점을 부여하는 프로그램을 ***함수를 이용***하여 작성하시오."
      ],
      "metadata": {
        "id": "p0U9ztAAaSIH"
      }
    },
    {
      "cell_type": "markdown",
      "source": [
        "* 다음과 같은 학점 규칙을 적용합니다:\n",
        "\n",
        "1. 성적이 90 이상인 경우, 학점은 A\n",
        "2. 성적이 80 이상 90 미만인 경우, 학점은 B\n",
        "3. 성적이 70 이상 80 미만인 경우, 학점은 C\n",
        "4. 성적이 60 이상 70 미만인 경우, 학점은 D\n",
        "5. 성적이 60 미만인 경우, 학점은 F\n",
        "\n",
        "**입력 예시:**\n",
        ">```\n",
        "성적을 입력하세요: 85\n",
        "```\n",
        "\n",
        "**출력 예시:**\n",
        ">```\n",
        "학점: B\n",
        "```"
      ],
      "metadata": {
        "id": "i1wRGb_taYz3"
      }
    },
    {
      "cell_type": "code",
      "source": [
        "\n",
        "\n",
        "\n"
      ],
      "metadata": {
        "id": "MG7Kg2aea3Fo"
      },
      "execution_count": null,
      "outputs": []
    },
    {
      "cell_type": "markdown",
      "source": [
        "# **문제3:**\n",
        "* 사용자로부터 입력받은 서로다른 세 개의 숫자 중에서 중간값 즉, 최대값과 최소값 사이의 값을 찾아내는 프로그램을 작성하시오."
      ],
      "metadata": {
        "id": "TEB_jbhlbcfi"
      }
    },
    {
      "cell_type": "markdown",
      "source": [
        "**입력 예시:**\n",
        ">```\n",
        "첫 번째 숫자를 입력하세요: 8\n",
        "두 번째 숫자를 입력하세요: 3\n",
        "세 번째 숫자를 입력하세요: 5\n",
        "```\n",
        "\n",
        "**출력 예시:**\n",
        ">```\n",
        "중간값: 5\n",
        "```\n"
      ],
      "metadata": {
        "id": "jvKs5i9GboWI"
      }
    },
    {
      "cell_type": "code",
      "source": [
        "\n",
        "\n",
        "\n",
        "\n",
        "\n"
      ],
      "metadata": {
        "id": "XX7Sp422b8iI"
      },
      "execution_count": null,
      "outputs": []
    },
    {
      "cell_type": "markdown",
      "source": [
        "# **문제4:**\n",
        "* 사용자로부터 입력받은 문자열에 포함된 모음의 개수를 계산하는 프로그램을 작성하시오.\n",
        "* 조건: 대소문자(a, e, i, o, u 또는 대문자 A, E, I,O, U) 구별없이 모두 해당됨."
      ],
      "metadata": {
        "id": "buuwwhTTdhvB"
      }
    },
    {
      "cell_type": "markdown",
      "source": [
        "**입력 예시:**\n",
        ">```\n",
        "문자열을 입력하세요: Hello, World!\n",
        "```\n",
        "\n",
        "**출력 예시:**\n",
        ">```\n",
        "모음 개수: 3\n",
        "```\n",
        "\n",
        "**가능한 정답 코드 일부:**\n",
        ">```\n",
        "string = input(\"문자열을 입력하세요: \")\n",
        ".\n",
        ".\n",
        ".\n",
        ".\n",
        "print(\"모음 개수:\", vowel_count)\n",
        "\n",
        "```\n"
      ],
      "metadata": {
        "id": "qcm1vu1pdnu6"
      }
    },
    {
      "cell_type": "code",
      "source": [
        "\n",
        "\n",
        "\n",
        "\n"
      ],
      "metadata": {
        "id": "XkqRsFoRd7OZ"
      },
      "execution_count": null,
      "outputs": []
    },
    {
      "cell_type": "markdown",
      "source": [
        "# **문제5:**\n",
        "* 사용자로부터 연속적으로 단어를 입력받다가, \"끝\"이라는 단어가 입력되면 입력을 중단하고, 입력된 단어들 중에서 가장 긴 단어를 출력하는 프로그램을 작성하시오."
      ],
      "metadata": {
        "id": "iMVo65rXgeQL"
      }
    },
    {
      "cell_type": "markdown",
      "source": [
        "**입력 예시:**\n",
        "\n",
        ">```\n",
        "단어를 입력하세요: apple\n",
        "단어를 입력하세요: banana\n",
        "단어를 입력하세요: pear\n",
        "단어를 입력하세요: 끝\n",
        "```\n",
        "\n",
        "**출력 예시:**\n",
        ">```\n",
        "가장 긴 단어: banana\n",
        "```\n",
        "\n",
        "**가능한 정답 코드 일부:**\n",
        ">```\n",
        "longest_word = \"\"\n",
        ".\n",
        ".\n",
        ".\n",
        "print(\"가장 긴 단어:\", longest_word)\n",
        "```\n"
      ],
      "metadata": {
        "id": "HoEVbz-OgjfA"
      }
    },
    {
      "cell_type": "code",
      "source": [
        "\n",
        "\n",
        "\n",
        "\n",
        "\n"
      ],
      "metadata": {
        "id": "Lkp6swd4g1L-"
      },
      "execution_count": null,
      "outputs": []
    }
  ]
}
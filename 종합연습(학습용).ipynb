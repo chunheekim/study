{
  "nbformat": 4,
  "nbformat_minor": 0,
  "metadata": {
    "colab": {
      "provenance": [],
      "authorship_tag": "ABX9TyMpS922kFLytVND+A8dSK3j",
      "include_colab_link": true
    },
    "kernelspec": {
      "name": "python3",
      "display_name": "Python 3"
    },
    "language_info": {
      "name": "python"
    }
  },
  "cells": [
    {
      "cell_type": "markdown",
      "metadata": {
        "id": "view-in-github",
        "colab_type": "text"
      },
      "source": [
        "<a href=\"https://colab.research.google.com/github/chunheekim/study/blob/main/%EC%A2%85%ED%95%A9%EC%97%B0%EC%8A%B5(%ED%95%99%EC%8A%B5%EC%9A%A9).ipynb\" target=\"_parent\"><img src=\"https://colab.research.google.com/assets/colab-badge.svg\" alt=\"Open In Colab\"/></a>"
      ]
    },
    {
      "cell_type": "markdown",
      "source": [
        "# **문제1:**\n",
        "사용자로부터 두 개의 정수를 입력받아, 덧셈, 뺄셈, 곱셈, 나눗셈 연산을 수행하는 프로그램을 작성하시오."
      ],
      "metadata": {
        "id": "DSGhEizsoMrT"
      }
    },
    {
      "cell_type": "markdown",
      "source": [
        "**입력 형식**\n",
        ">```\n",
        "첫 번째 정수를 입력하세요: [첫 번째 정수 입력]\n",
        "두 번째 정수를 입력하세요: [두 번째 정수 입력]\n",
        "```\n",
        "\n",
        "\n",
        "**출력 형식**\n",
        ">```\n",
        "[첫 번째 정수] + [두 번째 정수] = [덧셈 결과]\n",
        "[첫 번째 정수] - [두 번째 정수] = [뺄셈 결과]\n",
        "[첫 번째 정수] * [두 번째 정수] = [곱셈 결과]\n",
        "[첫 번째 정수] / [두 번째 정수] = [나눗셈 결과]\n",
        "```\n",
        "\n",
        "**실행 결과 예시**\n",
        ">```\n",
        "첫 번째 정수를 입력하세요: 5\n",
        "두 번째 정수를 입력하세요: 7\n",
        "5 + 7 = 12\n",
        "5 - 7 = -2\n",
        "5 * 7 = 35\n",
        "5 / 7 = 0.7142857142857143\n",
        "```"
      ],
      "metadata": {
        "id": "xAw2gfYSoOw1"
      }
    },
    {
      "cell_type": "code",
      "execution_count": null,
      "metadata": {
        "id": "T0CryY8RoCN9"
      },
      "outputs": [],
      "source": [
        "num1 = int(input(\"첫 번째 정수를 입력하세요: \"))\n",
        "\n",
        "\n",
        "\n",
        "\n",
        "\n"
      ]
    },
    {
      "cell_type": "markdown",
      "source": [
        "# **문제2:**\n",
        "사용자로부터 정수를 입력받아, 입력된 정수가 소수인지 아닌지를 판별하는 프로그램을 작성하시오.\n",
        "\n",
        "소수(Prime number)는 1과 자기 자신만으로 나누어 떨어지는 양의 정수입니다."
      ],
      "metadata": {
        "id": "AtD1G4YxpRV7"
      }
    },
    {
      "cell_type": "markdown",
      "source": [
        "**입력 예시**\n",
        ">```\n",
        "정수를 입력하세요: 7\n",
        "```\n",
        "\n",
        "**출력 예시**\n",
        ">```\n",
        "7은 소수입니다.\n",
        "```\n",
        "\n",
        "**실행 결과 예시**\n",
        ">```\n",
        "정수를 입력하세요: 7\n",
        "7은 소수입니다.\n",
        "```\n",
        "\n",
        ">```\n",
        "정수를 입력하세요: 6\n",
        "6은 소수가 아닙니다.\n",
        "```\n",
        "\n",
        "**정답 예시 코드**\n",
        ">```\n",
        "num = int(input(\"정수를 입력하세요: \"))\n",
        "is_prime = True\n",
        "if num < 2:\n",
        "    _____________________\n",
        "else:\n",
        "    for i in range(2, num):\n",
        "        _____________________\n",
        "        _____________________\n",
        "        _____________________\n",
        "if is_prime:\n",
        "    print(f\"{num}은 소수입니다.\")\n",
        "else:\n",
        "    print(f\"{num}은 소수가 아닙니다.\")\n",
        "```"
      ],
      "metadata": {
        "id": "LqqTJ8IfpSa4"
      }
    },
    {
      "cell_type": "code",
      "source": [
        "num = int(input(\"정수를 입력하세요: \"))\n",
        "\n",
        "\n",
        "\n",
        "\n",
        "\n",
        "\n",
        "\n"
      ],
      "metadata": {
        "id": "Yn84Na4BpjNM"
      },
      "execution_count": null,
      "outputs": []
    },
    {
      "cell_type": "markdown",
      "source": [
        "# **문제3:**\n",
        "사용자로부터 정수를 입력받아, 입력된 정수의 팩토리얼을 계산하는 프로그램을 작성하시오."
      ],
      "metadata": {
        "id": "vCIQML2VqVZt"
      }
    },
    {
      "cell_type": "markdown",
      "source": [
        "**입력 예시**\n",
        ">```\n",
        "정수를 입력하세요: 5\n",
        "```\n",
        "\n",
        "**출력 예시**\n",
        ">```\n",
        "5의 팩토리얼은 120입니다.\n",
        "```\n",
        "\n",
        "**실행 결과 예시**\n",
        ">```\n",
        "정수를 입력하세요: 5\n",
        "5의 팩토리얼은 120입니다.\n",
        "```\n",
        "\n",
        ">```\n",
        "정수를 입력하세요: -3\n",
        "음수의 팩토리얼은 정의되지 않습니다.\n",
        "```\n",
        "\n",
        "**정답 예시 코드**\n",
        "\n",
        "```\n",
        "num = int(input(\"정수를 입력하세요: \"))\n",
        "___________________\n",
        "if num >= 0:\n",
        "    for ___________________\n",
        "        factorial *= i\n",
        "    print(f\"{num}의 팩토리얼은 {factorial}입니다.\")\n",
        "else:\n",
        "    print(\"음수의 팩토리얼은 정의되지 않습니다.\")\n",
        "```\n"
      ],
      "metadata": {
        "id": "86HC-G6bqWc4"
      }
    },
    {
      "cell_type": "code",
      "source": [
        "num = int(input(\"정수를 입력하세요: \"))\n",
        "\n",
        "\n",
        "\n",
        "\n",
        "\n"
      ],
      "metadata": {
        "id": "B7edi6QXqxui"
      },
      "execution_count": null,
      "outputs": []
    },
    {
      "cell_type": "markdown",
      "source": [
        "# **문제4:**\n",
        "사용자로부터 정수를 입력받아 해당 정수의 자리수 합을 계산하는 프로그램을 작성하시오."
      ],
      "metadata": {
        "id": "VQ0bRCk3qx-d"
      }
    },
    {
      "cell_type": "markdown",
      "source": [
        "**조건:**\n",
        "\n",
        "1. while 문을 사용하여 구현해야 합니다.\n",
        "2. 입력된 정수의 각 자리 숫자들의 합을 계산하여 출력해야 합니다.\n",
        "3. 입력된 정수가 음수인 경우 절댓값을 사용하여 계산하세요.\n",
        "4. 입력된 정수가 0인 경우 자리수 합은 0입니다.\n",
        "\n",
        "**입력 예시**\n",
        ">```\n",
        "정수를 입력하세요: 256\n",
        "```\n",
        "\n",
        "**출력 예시**\n",
        ">```\n",
        "자리수 합: 13\n",
        "```\n",
        "\n",
        "**실행 결과 예시**\n",
        ">```\n",
        "정수를 입력하세요: 256\n",
        "자리수 합: 13\n",
        "```\n",
        ">```\n",
        "정수를 입력하세요: -128\n",
        "자리수 합: 11\n",
        "```\n",
        "```\n",
        "정수를 입력하세요: 0\n",
        "자리수 합: 0\n",
        "```\n",
        "\n",
        "**정답 예시 코드**\n",
        ">```\n",
        "number = int(input(\"정수를 입력하세요: \"))\n",
        "if number < 0:              #입력된 정수가 음수인 경우 절댓값으로 변경\n",
        "    number = abs(number)\n",
        "____________________              #자리수 합 계산을 위한 변수 초기화\n",
        "while number > 0:\n",
        "    _____________________       #가장 오른쪽 자리 숫자 가져오기\n",
        "    _____________________        # 자리수 합에 현재 자리 숫자 더하기\n",
        "    _____________________    # 다음 자리로 이동\n",
        "print(\"자리수 합:\", digit_sum)   # 결과 출력\n",
        "```\n"
      ],
      "metadata": {
        "id": "50ikWk5v-D5C"
      }
    },
    {
      "cell_type": "code",
      "source": [
        "number = int(input(\"정수를 입력하세요: \"))\n",
        "\n",
        "\n",
        "\n",
        "\n",
        "\n",
        "\n"
      ],
      "metadata": {
        "id": "IP2OUKvGTD6M"
      },
      "execution_count": null,
      "outputs": []
    }
  ]
}